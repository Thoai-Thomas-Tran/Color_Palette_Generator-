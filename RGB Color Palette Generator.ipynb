{
 "cells": [
  {
   "cell_type": "markdown",
   "id": "a32eb376",
   "metadata": {},
   "source": [
    "RGB Image Classification for Color Palette Generation"
   ]
  },
  {
   "cell_type": "code",
   "execution_count": 1,
   "id": "1ec1d3b0",
   "metadata": {},
   "outputs": [],
   "source": [
    "import turtle\n",
    "from math import sqrt\n",
    "import random\n",
    "\n",
    "try:\n",
    "    import Image\n",
    "except ImportError:\n",
    "    from PIL import Image"
   ]
  },
  {
   "cell_type": "code",
   "execution_count": 2,
   "id": "9c261246",
   "metadata": {},
   "outputs": [],
   "source": [
    "class Point:\n",
    "\n",
    "    def __init__(self, coordinates):\n",
    "        self.coordinates = coordinates"
   ]
  },
  {
   "cell_type": "code",
   "execution_count": 3,
   "id": "a8907cdb",
   "metadata": {},
   "outputs": [],
   "source": [
    "class Cluster:\n",
    "\n",
    "    def __init__(self, center, points):\n",
    "        self.center = center\n",
    "        self.points = points\n"
   ]
  },
  {
   "cell_type": "code",
   "execution_count": 4,
   "id": "bf026357",
   "metadata": {},
   "outputs": [],
   "source": [
    "class KMeans:\n",
    "\n",
    "    def __init__(self, n_clusters, min_diff=1):\n",
    "        self.n_clusters = n_clusters\n",
    "        self.min_diff = min_diff\n",
    "\n",
    "    def calculate_center(self, points):\n",
    "        n_dim = len(points[0].coordinates)\n",
    "        vals = [0.0 for i in range(n_dim)]\n",
    "        for p in points:\n",
    "            for i in range(n_dim):\n",
    "                vals[i] += p.coordinates[i]\n",
    "        coords = [(v / len(points)) for v in vals]\n",
    "        return Point(coords)\n",
    "\n",
    "    def assign_points(self, clusters, points):\n",
    "        plists = [[] for i in range(self.n_clusters)]\n",
    "\n",
    "        for p in points:\n",
    "            smallest_distance = float('inf')\n",
    "\n",
    "            for i in range(self.n_clusters):\n",
    "                distance = euclidean(p, clusters[i].center)\n",
    "                if distance < smallest_distance:\n",
    "                    smallest_distance = distance\n",
    "                    idx = i\n",
    "\n",
    "            plists[idx].append(p)\n",
    "\n",
    "        return plists\n",
    "\n",
    "    def fit(self, points):\n",
    "        clusters = [Cluster(center=p, points=[p]) for p in random.sample(points, self.n_clusters)]\n",
    "\n",
    "        while True:\n",
    "\n",
    "            plists = self.assign_points(clusters, points)\n",
    "\n",
    "            diff = 0\n",
    "\n",
    "            for i in range(self.n_clusters):\n",
    "                if not plists[i]:\n",
    "                    continue\n",
    "                old = clusters[i]\n",
    "                center = self.calculate_center(plists[i])\n",
    "                new = Cluster(center, plists[i])\n",
    "                clusters[i] = new\n",
    "                diff = max(diff, euclidean(old.center, new.center))\n",
    "\n",
    "            if diff < self.min_diff:\n",
    "                break\n",
    "\n",
    "        return clusters"
   ]
  },
  {
   "cell_type": "code",
   "execution_count": 5,
   "id": "d34b5526",
   "metadata": {},
   "outputs": [],
   "source": [
    "def euclidean(p, q):\n",
    "    n_dim = len(p.coordinates)\n",
    "    return sqrt(sum([\n",
    "        (p.coordinates[i] - q.coordinates[i]) ** 2 for i in range(n_dim)\n",
    "    ]))\n"
   ]
  },
  {
   "cell_type": "code",
   "execution_count": 6,
   "id": "4de12a55",
   "metadata": {},
   "outputs": [],
   "source": [
    "def get_points(image_path):\n",
    "    img = Image.open(image_path)\n",
    "    img.thumbnail((200, 400))\n",
    "    img = img.convert(\"RGB\")\n",
    "    w, h = img.size\n",
    "\n",
    "    points = []\n",
    "    for count, color in img.getcolors(w * h):\n",
    "        for _ in range(count):\n",
    "            points.append(Point(color))\n",
    "\n",
    "    return points\n"
   ]
  },
  {
   "cell_type": "code",
   "execution_count": 7,
   "id": "cb652060",
   "metadata": {},
   "outputs": [],
   "source": [
    "def rgb_to_hex(rgb):\n",
    "    return '#%s' % ''.join(('%02x' % p for p in rgb))"
   ]
  },
  {
   "cell_type": "code",
   "execution_count": 8,
   "id": "b88fef56",
   "metadata": {},
   "outputs": [],
   "source": [
    "def get_colors(filename, n_colors=3):\n",
    "    points = get_points(filename)\n",
    "    clusters = KMeans(n_clusters=n_colors).fit(points)\n",
    "    clusters.sort(key=lambda c: len(c.points), reverse=True)\n",
    "    rgbs = [map(int, c.center.coordinates) for c in clusters]\n",
    "    return list(map(rgb_to_hex, rgbs))"
   ]
  },
  {
   "cell_type": "code",
   "execution_count": 9,
   "id": "1613f0f8",
   "metadata": {},
   "outputs": [],
   "source": [
    "# colors = get_colors('flowers.jpg', n_colors=5)\n",
    "\n",
    "# print(\", \".join(colors))\n",
    "\n",
    "# window = turtle.Screen()\n",
    "\n",
    "# image = Image.open('flowers.jpg')\n",
    "# image.show()\n",
    "\n",
    "# turtle.hideturtle()\n",
    "# turtle.speed(0)\n",
    "# turtle.penup()\n",
    "# turtle.setposition(-250, 0)\n",
    "# for i in colors:\n",
    "#     turtle.color(i, i)\n",
    "#     turtle.pensize(5)\n",
    "#     turtle.begin_fill()\n",
    "#     turtle.circle(50)\n",
    "#     turtle.end_fill()\n",
    "#     turtle.penup()\n",
    "#     turtle.forward(120)\n",
    "#     turtle.pendown()\n",
    "# turtle.getcanvas().postscript(file=\"test.eps\")\n",
    "# window.exitonclick()\n"
   ]
  },
  {
   "cell_type": "code",
   "execution_count": 10,
   "id": "4a919741",
   "metadata": {},
   "outputs": [
    {
     "name": "stdout",
     "output_type": "stream",
     "text": [
      "Connecting to wss://anvil.works/uplink\n",
      "Anvil websocket open\n",
      "Connected to \"Debug for tommyt323@hotmail.com\" as SERVER\n"
     ]
    }
   ],
   "source": [
    "import anvil.server\n",
    "anvil.server.connect(\"server_47CLWJI76W43QF3GUHLKACRE-GYIBEZQJSM2FE2WA\")"
   ]
  },
  {
   "cell_type": "code",
   "execution_count": 12,
   "id": "2f1f444d",
   "metadata": {},
   "outputs": [],
   "source": [
    "import anvil.media\n",
    "\n",
    "@anvil.server.callable\n",
    "def classify_image(file):\n",
    "    with anvil.media.TempFile(file) as filename:\n",
    "\n",
    "        color = get_colors(filename, n_colors=5)\n",
    "\n",
    "        return (\", \".join(color))\n",
    "    "
   ]
  },
  {
   "cell_type": "code",
   "execution_count": 14,
   "id": "3f1ae153",
   "metadata": {},
   "outputs": [
    {
     "name": "stdout",
     "output_type": "stream",
     "text": [
      "The watermark extension is already loaded. To reload it, use:\n",
      "  %reload_ext watermark\n",
      "Python implementation: CPython\n",
      "Python version       : 3.9.7\n",
      "IPython version      : 7.29.0\n",
      "\n",
      "PIL      : 8.4.0\n",
      "pandas   : 1.3.4\n",
      "numpy    : 1.20.3\n",
      "watermark: 2.3.0\n",
      "\n",
      "Compiler    : Clang 10.0.0 \n",
      "OS          : Darwin\n",
      "Release     : 21.2.0\n",
      "Machine     : x86_64\n",
      "Processor   : i386\n",
      "CPU cores   : 10\n",
      "Architecture: 64bit\n",
      "\n",
      " \n",
      "Last updated: Thu Apr 14 2022 23:59:41PDT\n",
      "\n"
     ]
    }
   ],
   "source": [
    "%load_ext watermark\n",
    "\n",
    "# python, ipython, packages, and machine characteristics\n",
    "%watermark -v -m -p PIL,pandas,numpy,watermark \n",
    "\n",
    "# date\n",
    "print (\" \")\n",
    "%watermark -u -n -t -z "
   ]
  },
  {
   "cell_type": "code",
   "execution_count": null,
   "id": "652845dd",
   "metadata": {},
   "outputs": [],
   "source": []
  }
 ],
 "metadata": {
  "kernelspec": {
   "display_name": "Python 3 (ipykernel)",
   "language": "python",
   "name": "python3"
  },
  "language_info": {
   "codemirror_mode": {
    "name": "ipython",
    "version": 3
   },
   "file_extension": ".py",
   "mimetype": "text/x-python",
   "name": "python",
   "nbconvert_exporter": "python",
   "pygments_lexer": "ipython3",
   "version": "3.9.7"
  }
 },
 "nbformat": 4,
 "nbformat_minor": 5
}
